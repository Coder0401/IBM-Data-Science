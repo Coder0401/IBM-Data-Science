{
 "cells": [
  {
   "cell_type": "markdown",
   "id": "ec60b040-6889-4a4d-a0d5-2e0bb14bd330",
   "metadata": {},
   "source": [
    "# Data Science Tools and Ecosystem"
   ]
  },
  {
   "cell_type": "markdown",
   "id": "2f479d9d-348a-400b-9f12-08f9a3b6b5da",
   "metadata": {},
   "source": [
    "In this notebook, Data Science Tools and Ecosystem are summarized."
   ]
  },
  {
   "cell_type": "markdown",
   "id": "8f7b67cf-883b-40e4-8aaa-223cb67303a6",
   "metadata": {},
   "source": [
    "**Objectives:**\n",
    "- Using Markdown and Code cells in Jupyter notebook\n",
    "- List popular languages for Data Science\n",
    "- List few Data Science tools\n",
    "- Evaluation of arithmetic expressions"
   ]
  },
  {
   "cell_type": "markdown",
   "id": "d228fc7d-30cd-471f-b941-a2fdee69e17b",
   "metadata": {},
   "source": [
    "## Author\n",
    "Nazrulhasan Alam"
   ]
  },
  {
   "cell_type": "markdown",
   "id": "700bff60-bfb1-4f86-9f8a-7e64ddc4edc6",
   "metadata": {},
   "source": [
    "Some of the popular languages that Data Scientists use are:\n",
    "1. Python\n",
    "2. R\n",
    "3. Julia\n",
    "4. SQL"
   ]
  },
  {
   "cell_type": "markdown",
   "id": "20acb5ef-2f82-4bc6-acbd-428310e02cb3",
   "metadata": {},
   "source": [
    "Some of the commonly used libraries used by Data Scientists include:\n",
    "1. Pandas\n",
    "2. Matplotlib\n",
    "3. Keras\n",
    "4. Seaborn"
   ]
  },
  {
   "cell_type": "markdown",
   "id": "fff1deec-f8c5-4898-871c-f9270e0da27b",
   "metadata": {},
   "source": [
    "|Data Science Tools|\n",
    "|---|\n",
    "|Jupyter Notebook|\n",
    "|RStudio|\n",
    "|Visual Studio Code|\n",
    "|Apache Zeppelin|"
   ]
  },
  {
   "cell_type": "markdown",
   "id": "fed5eff3-bd56-4d76-b4c2-fa80d1c6f997",
   "metadata": {
    "tags": []
   },
   "source": [
    "### Below are a few examples of evaluating arithmetic expressions in Python"
   ]
  },
  {
   "cell_type": "code",
   "execution_count": 2,
   "id": "fafcd868-2753-4c7a-8ac9-f9c0c2aea529",
   "metadata": {
    "tags": []
   },
   "outputs": [
    {
     "data": {
      "text/plain": [
       "17"
      ]
     },
     "execution_count": 2,
     "metadata": {},
     "output_type": "execute_result"
    }
   ],
   "source": [
    "#This a simple arithmetic expression to mutiply then add integers\n",
    "(3*4)+5"
   ]
  },
  {
   "cell_type": "code",
   "execution_count": 4,
   "id": "f70c97b7-90b9-4a46-99ee-c3f055482a71",
   "metadata": {
    "tags": []
   },
   "outputs": [
    {
     "name": "stdout",
     "output_type": "stream",
     "text": [
      "3.3333333333333335\n"
     ]
    }
   ],
   "source": [
    "#This will convert 200 minutes to hours by diving by 60\n",
    "min_to_hours = 200/60\n",
    "print(min_to_hours)"
   ]
  }
 ],
 "metadata": {
  "kernelspec": {
   "display_name": "Python",
   "language": "python",
   "name": "conda-env-python-py"
  },
  "language_info": {
   "codemirror_mode": {
    "name": "ipython",
    "version": 3
   },
   "file_extension": ".py",
   "mimetype": "text/x-python",
   "name": "python",
   "nbconvert_exporter": "python",
   "pygments_lexer": "ipython3",
   "version": "3.7.12"
  }
 },
 "nbformat": 4,
 "nbformat_minor": 5
}
